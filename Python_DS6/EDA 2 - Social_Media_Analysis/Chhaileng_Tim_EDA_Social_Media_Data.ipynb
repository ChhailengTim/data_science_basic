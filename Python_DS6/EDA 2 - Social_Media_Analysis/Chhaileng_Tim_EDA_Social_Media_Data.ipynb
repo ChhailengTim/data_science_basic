{
 "cells": [
  {
   "cell_type": "markdown",
   "id": "ae2b1769-7c76-41f5-9cd3-fc06ccebacef",
   "metadata": {},
   "source": [
    "## EDA - Social Media Data Analysis\n",
    "\n",
    "### Context\n",
    "You are working for a tech company that manages a social media platform. Your team is responsible for increasing user engagement on the platform. In particular, you are interested in identifying the most successful users and topics on the platform. Success is measured as the level of general engagement (likes, comments, and shares) obtained by a user when they post content."
   ]
  },
  {
   "cell_type": "markdown",
   "id": "052557d2-e3c1-4771-9140-5a007832a34b",
   "metadata": {},
   "source": [
    "### Data\n",
    "You are provided with four datasets displaying information on the posting history of eleven\n",
    "selected content creators. The content of these datasets is as follows:\n",
    "\n",
    "#### 1. Post_History.csv\n",
    "\n",
    "This dataset links the users and their posts. It includes two variables:\n",
    "\n",
    "• <b>User_ID</b>: Unique identifier of the content creator that made the post. This variable is useful to relate the dataset to Users.csv\n",
    "\n",
    "• <b>Post_ID</b>: Unique identifier of the post. This variable is useful to relate the dataset to <b>Post_Info1.csv</b> and <b>Post_Info2.csv</b>.\n",
    "\n",
    "#### 2. Post_Info1.csv\n",
    "This dataset reports data regarding the content and success of a sample of posts. It includes \n",
    "six variables.\n",
    "\n",
    "• <b>Post_ID</b>: Unique identifier of the post.\n",
    "\n",
    "• <b>Topic</b>: What is the post about? (there are four options: “Food”, “Travel”, “Gaming” and “Fashion”).\n",
    "\n",
    "• <b>Date</b>: Date at which the user posted the content on the platform.\n",
    "\n",
    "• <b>Likes</b>: Number of “likes” obtained from the post.\n",
    "\n",
    "• <b>Comments</b>: Number of “comments” obtained from the post.\n",
    "\n",
    "• <b>Shared</b>: Number of times the post has been shared by other users.\n",
    "\n",
    "#### 3. Post_Info2.csv\n",
    "\n",
    "This dataset completes Post_Info1.csv. It includes a different sample of posts. The variables are the same as the one described for <b>Post_Info1.csv</b>\n",
    "\n",
    "#### 4. Users.csv\n",
    "This dataset reports additional information regarding the eleven content creators whose posts \n",
    "are to be analyzed. \n",
    "\n",
    "• <b>User_ID</b>: Unique identifier of the content creator.\n",
    "\n",
    "• <b>Name</b>: Username associated to the account.\n",
    "\n",
    "• <b>Gender</b>: Declared gender of the content creator (1=he/him; 2=she/her; 3=they/them).\n",
    "\n",
    "• <b>Age</b>: Age declared by the content creator.\n",
    "\n",
    "• <b>Country</b>: Country of residence of the content creator (US, UK or Australia).\n"
   ]
  },
  {
   "cell_type": "code",
   "execution_count": 1,
   "id": "ed116dca-9665-4001-b106-2272142ef943",
   "metadata": {},
   "outputs": [],
   "source": [
    "import pandas as pd\n",
    "import datetime as dt\n",
    "import statistics as stat\n",
    "import seaborn as sb\n",
    "import matplotlib.pyplot as plt\n",
    "import os"
   ]
  },
  {
   "cell_type": "code",
   "execution_count": 2,
   "id": "e0a11d4d-12d5-4f48-9af2-51b1d39083b5",
   "metadata": {},
   "outputs": [],
   "source": [
    "df_post_history = pd.read_csv('Post_History.csv')\n",
    "df_post_info1 = pd.read_csv('Post_Info1.csv')\n",
    "df_post_info2 = pd.read_csv('Post_Info2.csv')\n",
    "df_users = pd.read_csv('Users.csv')"
   ]
  },
  {
   "cell_type": "code",
   "execution_count": 4,
   "id": "bbe38bf1-4156-49ad-857d-6b69f1ea30d0",
   "metadata": {},
   "outputs": [
    {
     "name": "stdout",
     "output_type": "stream",
     "text": [
      "df_post_history.shape: (900, 2)\n",
      "df_post_info1.shape: (378, 6)\n",
      "df_post_info2.shape: (522, 6)\n",
      "df_users.shape: (11, 5)\n",
      "\n",
      "df_post_history:\n",
      "   User_ID  Post_ID\n",
      "0      520   269080\n",
      "1      122   291179\n",
      "2      252   745975\n",
      "3      242   350380\n",
      "4      242   497060\n",
      "\n",
      "df_post_info1:\n",
      "   Post_ID    Topic        Date  Likes  Comments  Shared\n",
      "0   200217   Gaming  2022-02-17   2460        48      36\n",
      "1   200788   Gaming  2022-10-16   9320        56      15\n",
      "2   201749   Gaming  2021-02-09  23610        70      27\n",
      "3   204683     Food  2021-05-08  20930        80      47\n",
      "4   205080  Fashion  2021-09-19  19200       163      79\n",
      "\n",
      "df_post_info2:\n",
      "   Post_ID    Topic        Date   Likes  Comments  Shared\n",
      "0   500095     Food  2021-04-17  115180       230     311\n",
      "1   500206   Travel  2022-07-05   16760       183     132\n",
      "2   500797     Food  2021-01-17  116060       566     467\n",
      "3   501739  Fashion  2022-04-20   76760       157     201\n",
      "4   502180     Food  2022-04-09   23230       119      29\n",
      "\n",
      "df_users:\n",
      "   User_ID          Name  Gender  Age Country\n",
      "0       56    Jumbo Jack       1   25      UK\n",
      "1       66    VeganChloe       2   26      US\n",
      "2      120     Not Alice       3   32     AUS\n",
      "3      122  Etienne Faux       1   18      UK\n",
      "4      242    Crash Test       1   39      UK\n"
     ]
    }
   ],
   "source": [
    "# Check the shape of each dataframe to make sure that it is correctly loaded.\n",
    "print('df_post_history.shape:', df_post_history.shape)\n",
    "print('df_post_info1.shape:', df_post_info1.shape)\n",
    "print('df_post_info2.shape:', df_post_info2.shape)\n",
    "print('df_users.shape:', df_users.shape)\n",
    "#Please do the same all other dataframes.\n",
    "\n",
    "# Check the top 5 rows of each dataframe to make sure that it is correctly loaded.\n",
    "print('\\ndf_post_history:')\n",
    "print(df_post_history.head())\n",
    "print('\\ndf_post_info1:')\n",
    "print(df_post_info1.head())\n",
    "print('\\ndf_post_info2:')\n",
    "print(df_post_info2.head())\n",
    "print('\\ndf_users:')\n",
    "print(df_users.head())\n",
    "# Please do the same for all other dataframes.\n"
   ]
  },
  {
   "cell_type": "markdown",
   "id": "79cf236c-8164-48bb-8256-8bf002d40207",
   "metadata": {},
   "source": [
    "### Data Preparation and Cleaning\n",
    "\n",
    "#### 1. Combine the df_post_info1, df_post_info2"
   ]
  },
  {
   "cell_type": "code",
   "execution_count": 80,
   "id": "12183e3e-f40c-4d25-86d2-62b6959c5526",
   "metadata": {},
   "outputs": [
    {
     "name": "stdout",
     "output_type": "stream",
     "text": [
      "df_post_info1.shape: (378, 6)\n",
      "df_post_info2.shape: (522, 6)\n",
      "all_post.shape: (900, 6)\n"
     ]
    }
   ],
   "source": [
    "all_post = pd.concat([df_post_info1, df_post_info2])\n",
    "print('df_post_info1.shape:', df_post_info1.shape)\n",
    "print('df_post_info2.shape:', df_post_info2.shape)\n",
    "print('all_post.shape:', all_post.shape)"
   ]
  },
  {
   "cell_type": "markdown",
   "id": "0866f9e7-eb8c-4681-a875-d391def59cc8",
   "metadata": {},
   "source": [
    "#### 2. Check whether there is any null values or NaN values in the dataset"
   ]
  },
  {
   "cell_type": "code",
   "execution_count": 81,
   "id": "610d0c47-0d77-4fab-82c8-32c268bbf9d5",
   "metadata": {},
   "outputs": [
    {
     "name": "stdout",
     "output_type": "stream",
     "text": [
      "False\n",
      "False\n",
      "False\n"
     ]
    }
   ],
   "source": [
    "print(df_post_history.isnull().values.any())\n",
    "print(all_post.isnull().values.any())\n",
    "print(df_users.isnull().values.any())"
   ]
  },
  {
   "cell_type": "markdown",
   "id": "78b29c1f-667c-42bf-a862-74b80f4b99ba",
   "metadata": {},
   "source": [
    "#### 3. Check unique value of categorical columns"
   ]
  },
  {
   "cell_type": "code",
   "execution_count": 82,
   "id": "ebaf8836-9500-4c64-adea-ff9c5250dc64",
   "metadata": {},
   "outputs": [
    {
     "name": "stdout",
     "output_type": "stream",
     "text": [
      "['Gaming' 'Food' 'Fashion' 'Travel' 'Travek']\n",
      "['UK' 'US' 'AUS']\n",
      "[1 2 3]\n"
     ]
    }
   ],
   "source": [
    "print(all_post['Topic'].unique())\n",
    "print(df_users['Country'].unique())\n",
    "print(df_users['Gender'].unique())"
   ]
  },
  {
   "cell_type": "markdown",
   "id": "ca0160ac-0d7f-4c16-9997-9fdb28be4380",
   "metadata": {},
   "source": [
    "### We can see that there are some error of topic column.Hence, we need to replace the \"travek\" by \"travel\""
   ]
  },
  {
   "cell_type": "code",
   "execution_count": 83,
   "id": "b4fb3f3f-47ce-4729-b68b-bf0fb07984ca",
   "metadata": {},
   "outputs": [],
   "source": [
    "all_post['Topic'] = all_post['Topic'].replace('Travek', 'Travel')"
   ]
  },
  {
   "cell_type": "code",
   "execution_count": 84,
   "id": "778cd86a",
   "metadata": {},
   "outputs": [
    {
     "name": "stdout",
     "output_type": "stream",
     "text": [
      "['Gaming' 'Food' 'Fashion' 'Travel']\n"
     ]
    }
   ],
   "source": [
    "print(all_post['Topic'].unique())"
   ]
  },
  {
   "cell_type": "markdown",
   "id": "0cdd13b1-aa21-426b-ae41-b1414963fe7b",
   "metadata": {},
   "source": [
    "### Mission\n",
    "\n",
    "The analysis should consider all posts and the available information for each post. You will therefore need to merge the datasets.\n",
    "\n",
    "#### Objective 1: Which users build the most engagement? \n",
    "\n",
    "Each post can be liked, shared, and commented. Calculate the “engagement” metric for each post as follow: \n",
    "\n",
    "<b>𝑒𝑛𝑔𝑎𝑔𝑒𝑚𝑒𝑛𝑡 = 0.2 × 𝑙𝑖𝑘𝑒𝑠 + 0.3 × 𝑐𝑜𝑚𝑚𝑒𝑛𝑡𝑠 + 0.5 × 𝑠ℎ𝑎𝑟𝑒𝑑. </b>\n",
    "\n",
    "This is a weighted average which summarizes the three components of engagement by taking into account their importance for the company.\n",
    "\n",
    "<b>Please identify the name of the five users who have the highest average engagement per post.</b>\n"
   ]
  },
  {
   "cell_type": "code",
   "execution_count": 85,
   "id": "6349041c",
   "metadata": {},
   "outputs": [
    {
     "name": "stdout",
     "output_type": "stream",
     "text": [
      "merged_with_post_history.shape: (900, 7)\n",
      "merged_with_post_history_with_users.shape: (900, 11)\n",
      "   Post_ID    Topic        Date  Likes  Comments  Shared  User_ID  \\\n",
      "0   200217   Gaming  2022-02-17   2460        48      36      242   \n",
      "1   200788   Gaming  2022-10-16   9320        56      15      242   \n",
      "2   201749   Gaming  2021-02-09  23610        70      27      242   \n",
      "3   204683     Food  2021-05-08  20930        80      47      451   \n",
      "4   205080  Fashion  2021-09-19  19200       163      79      250   \n",
      "\n",
      "           Name  Gender  Age Country  \n",
      "0    Crash Test       1   39      UK  \n",
      "1    Crash Test       1   39      UK  \n",
      "2    Crash Test       1   39      UK  \n",
      "3  El0nMusk_off       3   99      US  \n",
      "4      AIRBDEEM       2   23      US  \n"
     ]
    }
   ],
   "source": [
    "merged_with_post_history = all_post.merge(df_post_history, on='Post_ID')\n",
    "merged_with_post_history_with_users = merged_with_post_history.merge(df_users, on='User_ID')\n",
    "print('merged_with_post_history.shape:', merged_with_post_history.shape)\n",
    "print('merged_with_post_history_with_users.shape:', merged_with_post_history_with_users.shape)\n",
    "print(merged_with_post_history_with_users.head())\n"
   ]
  },
  {
   "cell_type": "code",
   "execution_count": 86,
   "id": "01077790",
   "metadata": {},
   "outputs": [
    {
     "name": "stdout",
     "output_type": "stream",
     "text": [
      "     Post_ID    Topic        Date  Likes  Comments  Shared  User_ID  \\\n",
      "0     200217   Gaming  2022-02-17   2460        48      36      242   \n",
      "1     200788   Gaming  2022-10-16   9320        56      15      242   \n",
      "2     201749   Gaming  2021-02-09  23610        70      27      242   \n",
      "3     204683     Food  2021-05-08  20930        80      47      451   \n",
      "4     205080  Fashion  2021-09-19  19200       163      79      250   \n",
      "..       ...      ...         ...    ...       ...     ...      ...   \n",
      "895   897931     Food  2022-11-02  67080       214     164      311   \n",
      "896   898659     Food  2022-04-01  20350       145      27      250   \n",
      "897   899245     Food  2022-11-12  20960       594     104      545   \n",
      "898   899692   Gaming  2022-01-16  55200       267      81      311   \n",
      "899   899976   Gaming  2022-08-09   8410        47      20      242   \n",
      "\n",
      "               Name  Gender  Age Country  Engagement  \n",
      "0        Crash Test       1   39      UK       524.4  \n",
      "1        Crash Test       1   39      UK      1888.3  \n",
      "2        Crash Test       1   39      UK      4756.5  \n",
      "3      El0nMusk_off       3   99      US      4233.5  \n",
      "4          AIRBDEEM       2   23      US      3928.4  \n",
      "..              ...     ...  ...     ...         ...  \n",
      "895         Major L       1   21     AUS     13562.2  \n",
      "896        AIRBDEEM       2   23      US      4127.0  \n",
      "897  Carlor Ferrero       1   50      US      4422.2  \n",
      "898         Major L       1   21     AUS     11160.6  \n",
      "899      Crash Test       1   39      UK      1706.1  \n",
      "\n",
      "[900 rows x 12 columns]\n"
     ]
    }
   ],
   "source": [
    "final_merged = merged_with_post_history_with_users\n",
    "\n",
    "final_merged['Engagement'] = 0.2 * final_merged['Likes'] + 0.3 * final_merged['Comments'] + 0.5 * final_merged['Shared']\n",
    "print(final_merged)\n"
   ]
  },
  {
   "cell_type": "code",
   "execution_count": 87,
   "id": "6b2f4ebe",
   "metadata": {},
   "outputs": [
    {
     "name": "stdout",
     "output_type": "stream",
     "text": [
      "    User_ID    Engagement\n",
      "0        56  12837.298630\n",
      "1        66   4849.636667\n",
      "2       120   3037.706000\n",
      "3       122   3134.243750\n",
      "4       242   2838.125123\n",
      "5       250   5755.087736\n",
      "6       252   3316.622222\n",
      "7       311  10125.564103\n",
      "8       451   5487.058170\n",
      "9       520  14838.263636\n",
      "10      545  14532.916832\n"
     ]
    }
   ],
   "source": [
    "per_user_engagement = final_merged.groupby('User_ID')['Engagement'].mean().reset_index()\n",
    "print(per_user_engagement)"
   ]
  },
  {
   "cell_type": "code",
   "execution_count": 88,
   "id": "f676126c",
   "metadata": {},
   "outputs": [
    {
     "name": "stdout",
     "output_type": "stream",
     "text": [
      "    User_ID    Engagement            Name\n",
      "0        56  12837.298630      Jumbo Jack\n",
      "1        66   4849.636667      VeganChloe\n",
      "2       120   3037.706000       Not Alice\n",
      "3       122   3134.243750    Etienne Faux\n",
      "4       242   2838.125123      Crash Test\n",
      "5       250   5755.087736        AIRBDEEM\n",
      "6       252   3316.622222    Vogue Xtreme\n",
      "7       311  10125.564103         Major L\n",
      "8       451   5487.058170    El0nMusk_off\n",
      "9       520  14838.263636      Fancy Tina\n",
      "10      545  14532.916832  Carlor Ferrero\n"
     ]
    }
   ],
   "source": [
    "user_engagement = per_user_engagement.merge(df_users[['User_ID', 'Name']], on='User_ID')\n",
    "print(user_engagement)"
   ]
  },
  {
   "cell_type": "code",
   "execution_count": 89,
   "id": "52b55063",
   "metadata": {},
   "outputs": [
    {
     "name": "stdout",
     "output_type": "stream",
     "text": [
      "    User_ID    Engagement            Name\n",
      "9       520  14838.263636      Fancy Tina\n",
      "10      545  14532.916832  Carlor Ferrero\n",
      "0        56  12837.298630      Jumbo Jack\n",
      "7       311  10125.564103         Major L\n",
      "5       250   5755.087736        AIRBDEEM\n"
     ]
    }
   ],
   "source": [
    "top_5_users = user_engagement.sort_values(by='Engagement', ascending=False).head(5)\n",
    "print(top_5_users)"
   ]
  },
  {
   "cell_type": "code",
   "execution_count": 90,
   "id": "01fefce5",
   "metadata": {},
   "outputs": [
    {
     "data": {
      "image/png": "[encoded data removed]",
      "text/plain": [
       "<Figure size 1500x800 with 1 Axes>"
      ]
     },
     "metadata": {},
     "output_type": "display_data"
    }
   ],
   "source": [
    "palette_color = sb.color_palette('deep')[0]\n",
    "plt.figure(figsize=(15,8))\n",
    "sb.barplot(data=top_5_users, x='Name', y='Engagement',\n",
    "                 color=palette_color, edgecolor='0.25')\n",
    "plt.title('Top 5 users who have the highest average engagement per post', fontsize=20)\n",
    "plt.ylabel('#Engagement', fontsize=12)\n",
    "plt.xlabel('Name ', fontsize=12)\n",
    "plt.xticks(rotation=45, ha='right', fontsize=12)\n",
    "plt.yticks(fontsize=12)\n",
    "plt.tight_layout()"
   ]
  },
  {
   "cell_type": "markdown",
   "id": "9e611596-8d7b-43cc-9ee7-df1850eaefa4",
   "metadata": {},
   "source": [
    "#### Objective 2: What are the specialties of each user in the content they create?\n",
    "\n",
    "Each user may specialize on a topic, and audience may vary between topics. For commercial purpose (e.g., recommending an influencer to a brand), it would be important to identify which user is the more suited for a given topic. \n",
    "\n",
    "<b>Please identify the specialties of the eleven users. </b>\n",
    "\n",
    "<b>Ideas:</b>\n",
    "\n",
    "• You can for instance use the topic of their posts and identify how often they publish in different topics. \n",
    "\n",
    "• You could represent this information in a graph of your choice (making eleven graphs in total). \n",
    "\n",
    "• Another way to define the specialties would be to calculate the total engagement obtained from the different topics."
   ]
  },
  {
   "cell_type": "code",
   "execution_count": 91,
   "id": "c457808b",
   "metadata": {},
   "outputs": [
    {
     "data": {
      "text/html": [
       "<div>\n",
       "<style scoped>\n",
       "    .dataframe tbody tr th:only-of-type {\n",
       "        vertical-align: middle;\n",
       "    }\n",
       "\n",
       "    .dataframe tbody tr th {\n",
       "        vertical-align: top;\n",
       "    }\n",
       "\n",
       "    .dataframe thead th {\n",
       "        text-align: right;\n",
       "    }\n",
       "</style>\n",
       "<table border=\"1\" class=\"dataframe\">\n",
       "  <thead>\n",
       "    <tr style=\"text-align: right;\">\n",
       "      <th></th>\n",
       "      <th>Post_ID</th>\n",
       "      <th>Topic</th>\n",
       "      <th>Date</th>\n",
       "      <th>Likes</th>\n",
       "      <th>Comments</th>\n",
       "      <th>Shared</th>\n",
       "      <th>User_ID</th>\n",
       "      <th>Name</th>\n",
       "      <th>Gender</th>\n",
       "      <th>Age</th>\n",
       "      <th>Country</th>\n",
       "      <th>Engagement</th>\n",
       "    </tr>\n",
       "  </thead>\n",
       "  <tbody>\n",
       "    <tr>\n",
       "      <th>0</th>\n",
       "      <td>200217</td>\n",
       "      <td>Gaming</td>\n",
       "      <td>2022-02-17</td>\n",
       "      <td>2460</td>\n",
       "      <td>48</td>\n",
       "      <td>36</td>\n",
       "      <td>242</td>\n",
       "      <td>Crash Test</td>\n",
       "      <td>1</td>\n",
       "      <td>39</td>\n",
       "      <td>UK</td>\n",
       "      <td>524.4</td>\n",
       "    </tr>\n",
       "    <tr>\n",
       "      <th>1</th>\n",
       "      <td>200788</td>\n",
       "      <td>Gaming</td>\n",
       "      <td>2022-10-16</td>\n",
       "      <td>9320</td>\n",
       "      <td>56</td>\n",
       "      <td>15</td>\n",
       "      <td>242</td>\n",
       "      <td>Crash Test</td>\n",
       "      <td>1</td>\n",
       "      <td>39</td>\n",
       "      <td>UK</td>\n",
       "      <td>1888.3</td>\n",
       "    </tr>\n",
       "    <tr>\n",
       "      <th>2</th>\n",
       "      <td>201749</td>\n",
       "      <td>Gaming</td>\n",
       "      <td>2021-02-09</td>\n",
       "      <td>23610</td>\n",
       "      <td>70</td>\n",
       "      <td>27</td>\n",
       "      <td>242</td>\n",
       "      <td>Crash Test</td>\n",
       "      <td>1</td>\n",
       "      <td>39</td>\n",
       "      <td>UK</td>\n",
       "      <td>4756.5</td>\n",
       "    </tr>\n",
       "    <tr>\n",
       "      <th>3</th>\n",
       "      <td>204683</td>\n",
       "      <td>Food</td>\n",
       "      <td>2021-05-08</td>\n",
       "      <td>20930</td>\n",
       "      <td>80</td>\n",
       "      <td>47</td>\n",
       "      <td>451</td>\n",
       "      <td>El0nMusk_off</td>\n",
       "      <td>3</td>\n",
       "      <td>99</td>\n",
       "      <td>US</td>\n",
       "      <td>4233.5</td>\n",
       "    </tr>\n",
       "    <tr>\n",
       "      <th>4</th>\n",
       "      <td>205080</td>\n",
       "      <td>Fashion</td>\n",
       "      <td>2021-09-19</td>\n",
       "      <td>19200</td>\n",
       "      <td>163</td>\n",
       "      <td>79</td>\n",
       "      <td>250</td>\n",
       "      <td>AIRBDEEM</td>\n",
       "      <td>2</td>\n",
       "      <td>23</td>\n",
       "      <td>US</td>\n",
       "      <td>3928.4</td>\n",
       "    </tr>\n",
       "    <tr>\n",
       "      <th>...</th>\n",
       "      <td>...</td>\n",
       "      <td>...</td>\n",
       "      <td>...</td>\n",
       "      <td>...</td>\n",
       "      <td>...</td>\n",
       "      <td>...</td>\n",
       "      <td>...</td>\n",
       "      <td>...</td>\n",
       "      <td>...</td>\n",
       "      <td>...</td>\n",
       "      <td>...</td>\n",
       "      <td>...</td>\n",
       "    </tr>\n",
       "    <tr>\n",
       "      <th>895</th>\n",
       "      <td>897931</td>\n",
       "      <td>Food</td>\n",
       "      <td>2022-11-02</td>\n",
       "      <td>67080</td>\n",
       "      <td>214</td>\n",
       "      <td>164</td>\n",
       "      <td>311</td>\n",
       "      <td>Major L</td>\n",
       "      <td>1</td>\n",
       "      <td>21</td>\n",
       "      <td>AUS</td>\n",
       "      <td>13562.2</td>\n",
       "    </tr>\n",
       "    <tr>\n",
       "      <th>896</th>\n",
       "      <td>898659</td>\n",
       "      <td>Food</td>\n",
       "      <td>2022-04-01</td>\n",
       "      <td>20350</td>\n",
       "      <td>145</td>\n",
       "      <td>27</td>\n",
       "      <td>250</td>\n",
       "      <td>AIRBDEEM</td>\n",
       "      <td>2</td>\n",
       "      <td>23</td>\n",
       "      <td>US</td>\n",
       "      <td>4127.0</td>\n",
       "    </tr>\n",
       "    <tr>\n",
       "      <th>897</th>\n",
       "      <td>899245</td>\n",
       "      <td>Food</td>\n",
       "      <td>2022-11-12</td>\n",
       "      <td>20960</td>\n",
       "      <td>594</td>\n",
       "      <td>104</td>\n",
       "      <td>545</td>\n",
       "      <td>Carlor Ferrero</td>\n",
       "      <td>1</td>\n",
       "      <td>50</td>\n",
       "      <td>US</td>\n",
       "      <td>4422.2</td>\n",
       "    </tr>\n",
       "    <tr>\n",
       "      <th>898</th>\n",
       "      <td>899692</td>\n",
       "      <td>Gaming</td>\n",
       "      <td>2022-01-16</td>\n",
       "      <td>55200</td>\n",
       "      <td>267</td>\n",
       "      <td>81</td>\n",
       "      <td>311</td>\n",
       "      <td>Major L</td>\n",
       "      <td>1</td>\n",
       "      <td>21</td>\n",
       "      <td>AUS</td>\n",
       "      <td>11160.6</td>\n",
       "    </tr>\n",
       "    <tr>\n",
       "      <th>899</th>\n",
       "      <td>899976</td>\n",
       "      <td>Gaming</td>\n",
       "      <td>2022-08-09</td>\n",
       "      <td>8410</td>\n",
       "      <td>47</td>\n",
       "      <td>20</td>\n",
       "      <td>242</td>\n",
       "      <td>Crash Test</td>\n",
       "      <td>1</td>\n",
       "      <td>39</td>\n",
       "      <td>UK</td>\n",
       "      <td>1706.1</td>\n",
       "    </tr>\n",
       "  </tbody>\n",
       "</table>\n",
       "<p>900 rows × 12 columns</p>\n",
       "</div>"
      ],
      "text/plain": [
       "     Post_ID    Topic        Date  Likes  Comments  Shared  User_ID  \\\n",
       "0     200217   Gaming  2022-02-17   2460        48      36      242   \n",
       "1     200788   Gaming  2022-10-16   9320        56      15      242   \n",
       "2     201749   Gaming  2021-02-09  23610        70      27      242   \n",
       "3     204683     Food  2021-05-08  20930        80      47      451   \n",
       "4     205080  Fashion  2021-09-19  19200       163      79      250   \n",
       "..       ...      ...         ...    ...       ...     ...      ...   \n",
       "895   897931     Food  2022-11-02  67080       214     164      311   \n",
       "896   898659     Food  2022-04-01  20350       145      27      250   \n",
       "897   899245     Food  2022-11-12  20960       594     104      545   \n",
       "898   899692   Gaming  2022-01-16  55200       267      81      311   \n",
       "899   899976   Gaming  2022-08-09   8410        47      20      242   \n",
       "\n",
       "               Name  Gender  Age Country  Engagement  \n",
       "0        Crash Test       1   39      UK       524.4  \n",
       "1        Crash Test       1   39      UK      1888.3  \n",
       "2        Crash Test       1   39      UK      4756.5  \n",
       "3      El0nMusk_off       3   99      US      4233.5  \n",
       "4          AIRBDEEM       2   23      US      3928.4  \n",
       "..              ...     ...  ...     ...         ...  \n",
       "895         Major L       1   21     AUS     13562.2  \n",
       "896        AIRBDEEM       2   23      US      4127.0  \n",
       "897  Carlor Ferrero       1   50      US      4422.2  \n",
       "898         Major L       1   21     AUS     11160.6  \n",
       "899      Crash Test       1   39      UK      1706.1  \n",
       "\n",
       "[900 rows x 12 columns]"
      ]
     },
     "execution_count": 91,
     "metadata": {},
     "output_type": "execute_result"
    }
   ],
   "source": [
    "final_merged"
   ]
  },
  {
   "cell_type": "code",
   "execution_count": 101,
   "id": "610e91ca",
   "metadata": {},
   "outputs": [
    {
     "data": {
      "text/plain": [
       "Name            Topic  \n",
       "AIRBDEEM        Fashion     26\n",
       "                Food        23\n",
       "                Gaming       8\n",
       "                Travel      49\n",
       "Carlor Ferrero  Fashion      9\n",
       "                Food        76\n",
       "                Gaming      10\n",
       "                Travel       6\n",
       "Crash Test      Fashion     18\n",
       "                Food        45\n",
       "                Gaming     117\n",
       "                Travel      23\n",
       "El0nMusk_off    Fashion     33\n",
       "                Food        92\n",
       "                Gaming      15\n",
       "                Travel      13\n",
       "Etienne Faux    Fashion      2\n",
       "                Food         8\n",
       "                Travel       6\n",
       "Fancy Tina      Fashion     17\n",
       "                Food         7\n",
       "                Travel       9\n",
       "Jumbo Jack      Fashion     11\n",
       "                Food        13\n",
       "                Gaming       8\n",
       "                Travel      41\n",
       "Major L         Fashion      7\n",
       "                Food        21\n",
       "                Gaming      78\n",
       "                Travel      11\n",
       "Not Alice       Fashion     22\n",
       "                Food        13\n",
       "                Gaming       1\n",
       "                Travel      14\n",
       "VeganChloe      Fashion      5\n",
       "                Food        16\n",
       "                Gaming       5\n",
       "                Travel       4\n",
       "Vogue Xtreme    Fashion     11\n",
       "                Food         5\n",
       "                Gaming       2\n",
       "dtype: int64"
      ]
     },
     "execution_count": 101,
     "metadata": {},
     "output_type": "execute_result"
    }
   ],
   "source": [
    "user_topic_counts = final_merged.groupby(['Name', 'Topic']).size()\n",
    "user_topic_counts"
   ]
  },
  {
   "cell_type": "code",
   "execution_count": null,
   "id": "0dd8b2c3",
   "metadata": {},
   "outputs": [],
   "source": []
  },
  {
   "cell_type": "markdown",
   "id": "5602db2f-a20f-4de4-9c40-2e3d474c608e",
   "metadata": {},
   "source": [
    "#### Objective 3: Your initiatives.\n",
    "\n",
    "In the time that remains, please provide any additional analysis using the data. For example, <b>correlations</b> between likes, comments and shares (is the one getting the more likes also getting the most shares?), the country of origin, the gender, the distinction between 2021 and 2022… Anything that you think could be interesting. \n",
    "\n",
    "It does not matter if the results are interesting or not (e.g., if you do not find effects or differences between groups), as long as it is well done. \n",
    "\n",
    "<b>Some advice</b>: Do not try to talk about everything if you do not have time. Quality should be prioritized over quantity. Managing your time in accordance with your degree of familiarity with Python is an important skill. You do not need to be exhaustive to score perfectly."
   ]
  },
  {
   "cell_type": "code",
   "execution_count": null,
   "id": "16aa8480-d6ad-42ff-94fb-2b016e9057f0",
   "metadata": {},
   "outputs": [],
   "source": []
  },
  {
   "cell_type": "code",
   "execution_count": null,
   "id": "53c6ea95-9639-4fba-90a2-aaaaafb398f4",
   "metadata": {},
   "outputs": [],
   "source": []
  },
  {
   "cell_type": "code",
   "execution_count": null,
   "id": "5f8c23ad-9e66-46d6-bcd0-5d2dfed84642",
   "metadata": {},
   "outputs": [],
   "source": []
  },
  {
   "cell_type": "code",
   "execution_count": null,
   "id": "1588d2ca-36ee-4e4d-9960-aa02a5450ee9",
   "metadata": {},
   "outputs": [],
   "source": []
  }
 ],
 "metadata": {
  "kernelspec": {
   "display_name": "Python 3",
   "language": "python",
   "name": "python3"
  },
  "language_info": {
   "codemirror_mode": {
    "name": "ipython",
    "version": 3
   },
   "file_extension": ".py",
   "mimetype": "text/x-python",
   "name": "python",
   "nbconvert_exporter": "python",
   "pygments_lexer": "ipython3",
   "version": "3.11.4"
  }
 },
 "nbformat": 4,
 "nbformat_minor": 5
}
