{
 "cells": [
  {
   "cell_type": "markdown",
   "id": "ca00e82e",
   "metadata": {},
   "source": [
    "Control Flow"
   ]
  },
  {
   "cell_type": "markdown",
   "id": "81dbc243",
   "metadata": {},
   "source": [
    "Control Statement"
   ]
  },
  {
   "cell_type": "code",
   "execution_count": 3,
   "id": "b79476fd",
   "metadata": {},
   "outputs": [
    {
     "name": "stdout",
     "output_type": "stream",
     "text": [
      "Senior\n"
     ]
    }
   ],
   "source": [
    "age = 66\n",
    "\n",
    "if age < 10:\n",
    "    print(\"Minor\")\n",
    "elif age < 65:\n",
    "    print(\"Adult\")\n",
    "else:\n",
    "    print(\"Senior\")"
   ]
  },
  {
   "cell_type": "markdown",
   "id": "cc12bdff",
   "metadata": {},
   "source": [
    "Nested Conditional Statement"
   ]
  },
  {
   "cell_type": "code",
   "execution_count": 4,
   "id": "12b03654",
   "metadata": {},
   "outputs": [
    {
     "name": "stdout",
     "output_type": "stream",
     "text": [
      "Positive\n",
      "Even\n"
     ]
    }
   ],
   "source": [
    "number = 10\n",
    "if number > 0:\n",
    "    print(\"Positive\")\n",
    "    if number % 2 == 0:\n",
    "        print(\"Even\")\n",
    "    else:\n",
    "        print(\"Odd\")"
   ]
  },
  {
   "cell_type": "markdown",
   "id": "c01f566c",
   "metadata": {},
   "source": [
    "Break and Continues Loop"
   ]
  },
  {
   "cell_type": "code",
   "execution_count": 7,
   "id": "c7645de8",
   "metadata": {},
   "outputs": [
    {
     "name": "stdout",
     "output_type": "stream",
     "text": [
      "0 is in range 5\n",
      "1 is in range 5\n",
      "3 is in range 5\n",
      "4 is in range 5\n"
     ]
    }
   ],
   "source": [
    "for i in range(5):\n",
    "    if i == 2:\n",
    "        continue\n",
    "    print(f\"{i} is in range 5\")"
   ]
  },
  {
   "cell_type": "code",
   "execution_count": 8,
   "id": "dba1b450",
   "metadata": {},
   "outputs": [
    {
     "name": "stdout",
     "output_type": "stream",
     "text": [
      "0 is in range 5\n",
      "1 is in range 5\n",
      "2 is in range 5\n"
     ]
    }
   ],
   "source": [
    "for i in range(5):\n",
    "    if i == 3:\n",
    "        break\n",
    "    print(f\"{i} is in range 5\")"
   ]
  },
  {
   "cell_type": "markdown",
   "id": "49b3f7f5",
   "metadata": {},
   "source": [
    "Switch like Structure"
   ]
  },
  {
   "cell_type": "code",
   "execution_count": 9,
   "id": "2e8d4580",
   "metadata": {},
   "outputs": [
    {
     "name": "stdout",
     "output_type": "stream",
     "text": [
      "Option 2 selected\n"
     ]
    }
   ],
   "source": [
    "def switch_case(option):\n",
    "    return {\n",
    "        1: \"Option 1 selected\",\n",
    "        2: \"Option 2 selected\",\n",
    "        3: \"Option 3 selected\"\n",
    "    }.get(option, \"Invalid option\")\n",
    "\n",
    "print(switch_case(2))  # Output: Option 2 selected"
   ]
  },
  {
   "cell_type": "markdown",
   "id": "3fe05050",
   "metadata": {},
   "source": [
    "For Loop"
   ]
  },
  {
   "cell_type": "code",
   "execution_count": 10,
   "id": "e163e5c5",
   "metadata": {},
   "outputs": [
    {
     "name": "stdout",
     "output_type": "stream",
     "text": [
      "Outer loop 0\n",
      "Outer loop 1\n",
      "Outer loop 2\n",
      "Outer loop 3\n",
      "Outer loop 4\n"
     ]
    }
   ],
   "source": [
    "for i in range(5):\n",
    "    print(f\"Outer loop {i}\")"
   ]
  },
  {
   "cell_type": "markdown",
   "id": "147693d3",
   "metadata": {},
   "source": [
    "While Loop"
   ]
  },
  {
   "cell_type": "code",
   "execution_count": 11,
   "id": "13632e00",
   "metadata": {},
   "outputs": [
    {
     "name": "stdout",
     "output_type": "stream",
     "text": [
      "Inner loop 0\n",
      "Inner loop 1\n",
      "Inner loop 2\n",
      "Inner loop 3\n",
      "Inner loop 4\n"
     ]
    }
   ],
   "source": [
    "i = 0\n",
    "while i < 5:\n",
    "    print(f\"Inner loop {i}\")\n",
    "    i += 1"
   ]
  },
  {
   "cell_type": "markdown",
   "id": "0bef02c1",
   "metadata": {},
   "source": [
    "Enumerate"
   ]
  },
  {
   "cell_type": "markdown",
   "id": "e65e2b8a",
   "metadata": {},
   "source": [
    "Basic Usage"
   ]
  },
  {
   "cell_type": "code",
   "execution_count": 13,
   "id": "1ef2c82a",
   "metadata": {},
   "outputs": [
    {
     "name": "stdout",
     "output_type": "stream",
     "text": [
      "Index: 0, Value: a\n",
      "Index: 1, Value: b\n",
      "Index: 2, Value: c\n"
     ]
    }
   ],
   "source": [
    "my_list = ['a', 'b', 'c']\n",
    "for index, value in enumerate(my_list):\n",
    "    print(f\"Index: {index}, Value: {value}\")"
   ]
  },
  {
   "cell_type": "markdown",
   "id": "2fea5299",
   "metadata": {},
   "source": [
    "Specifying a Start Index"
   ]
  },
  {
   "cell_type": "code",
   "execution_count": 14,
   "id": "ecb643cf",
   "metadata": {},
   "outputs": [
    {
     "name": "stdout",
     "output_type": "stream",
     "text": [
      "Index: 1, Value: a\n",
      "Index: 2, Value: b\n",
      "Index: 3, Value: c\n"
     ]
    }
   ],
   "source": [
    "for index, value in enumerate(my_list, start=1):\n",
    "    print(f\"Index: {index}, Value: {value}\")"
   ]
  },
  {
   "cell_type": "markdown",
   "id": "f8b3bcf6",
   "metadata": {},
   "source": [
    "Converting to a List of Tuples"
   ]
  },
  {
   "cell_type": "code",
   "execution_count": 16,
   "id": "d335a225",
   "metadata": {},
   "outputs": [
    {
     "name": "stdout",
     "output_type": "stream",
     "text": [
      "[(0, 'a'), (1, 'b'), (2, 'c')]\n"
     ]
    }
   ],
   "source": [
    "enumerate_list = list(enumerate(my_list))\n",
    "print(enumerate_list)  # Output: [(0, 'a'), (1, 'b'), (2, 'c')]"
   ]
  },
  {
   "cell_type": "markdown",
   "id": "b87ed6c3",
   "metadata": {},
   "source": [
    "Using with List Comprehension"
   ]
  },
  {
   "cell_type": "code",
   "execution_count": 17,
   "id": "1cb45300",
   "metadata": {},
   "outputs": [
    {
     "name": "stdout",
     "output_type": "stream",
     "text": [
      "{0: 'a', 1: 'b', 2: 'c'}\n"
     ]
    }
   ],
   "source": [
    "enumerated_dict = {index: value for index, value in enumerate(my_list)}\n",
    "print(enumerated_dict)  # Output: {0: 'a', 1: 'b', 2: 'c'}\n"
   ]
  },
  {
   "cell_type": "markdown",
   "id": "651670a6",
   "metadata": {},
   "source": [
    "Interating Over a String"
   ]
  },
  {
   "cell_type": "code",
   "execution_count": 20,
   "id": "f0d85f39",
   "metadata": {},
   "outputs": [
    {
     "name": "stdout",
     "output_type": "stream",
     "text": [
      "Index: 0, Character: H\n",
      "Index: 1, Character: e\n",
      "Index: 2, Character: l\n",
      "Index: 3, Character: l\n",
      "Index: 4, Character: o\n"
     ]
    }
   ],
   "source": [
    "for index, char in enumerate(\"Hello\"):\n",
    "    print(f\"Index: {index}, Character: {char}\")"
   ]
  },
  {
   "cell_type": "markdown",
   "id": "754b3724",
   "metadata": {},
   "source": [
    "Iterator"
   ]
  },
  {
   "cell_type": "markdown",
   "id": "a0a85c2c",
   "metadata": {},
   "source": [
    "Creating an iterator"
   ]
  },
  {
   "cell_type": "code",
   "execution_count": 26,
   "id": "e76c5456",
   "metadata": {},
   "outputs": [
    {
     "name": "stdout",
     "output_type": "stream",
     "text": [
      "<list_iterator object at 0x10457ab00>\n"
     ]
    }
   ],
   "source": [
    "my_list = [1, 2, 3]\n",
    "my_iterator = iter(my_list)\n",
    "print(my_iterator)  # Output: <list_iterator object at ...>"
   ]
  },
  {
   "cell_type": "markdown",
   "id": "c9a50cfa",
   "metadata": {},
   "source": [
    "Using next"
   ]
  },
  {
   "cell_type": "code",
   "execution_count": 27,
   "id": "5a09051c",
   "metadata": {},
   "outputs": [],
   "source": [
    "first_item = next(my_iterator)\n",
    "second_item = next(my_iterator)"
   ]
  },
  {
   "cell_type": "markdown",
   "id": "6796cfdc",
   "metadata": {},
   "source": [
    "Iterating using a loop"
   ]
  },
  {
   "cell_type": "code",
   "execution_count": 28,
   "id": "a377468a",
   "metadata": {},
   "outputs": [
    {
     "name": "stdout",
     "output_type": "stream",
     "text": [
      "3\n"
     ]
    }
   ],
   "source": [
    "for item in my_iterator:\n",
    "    print(item)  # Output: 3"
   ]
  },
  {
   "cell_type": "markdown",
   "id": "1c0d573b",
   "metadata": {},
   "source": [
    "Create a custom Iterator"
   ]
  },
  {
   "cell_type": "code",
   "execution_count": 38,
   "id": "56e32051",
   "metadata": {},
   "outputs": [
    {
     "name": "stdout",
     "output_type": "stream",
     "text": [
      "1\n",
      "2\n",
      "3\n"
     ]
    }
   ],
   "source": [
    "class MyRange:\n",
    "    def __init__(self, start, end):\n",
    "        self.current = start\n",
    "        self.end = end\n",
    "\n",
    "    def __iter__(self):\n",
    "        return self\n",
    "\n",
    "    def __next__(self):\n",
    "        if self.current < self.end:\n",
    "            value = self.current\n",
    "            self.current += 1\n",
    "            return value\n",
    "        else:\n",
    "            raise StopIteration\n",
    "\n",
    "\n",
    "my_range = MyRange(1, 4)\n",
    "for number in my_range:\n",
    "    print(number)  # Output: 1, 2, 3"
   ]
  },
  {
   "cell_type": "markdown",
   "id": "55dff86d",
   "metadata": {},
   "source": [
    "Convert to list"
   ]
  },
  {
   "cell_type": "code",
   "execution_count": 39,
   "id": "3115b771",
   "metadata": {},
   "outputs": [
    {
     "name": "stdout",
     "output_type": "stream",
     "text": [
      "[0, 1, 2, 3, 4]\n"
     ]
    }
   ],
   "source": [
    "list_from_iterator = list(iter(range(5)))\n",
    "print(list_from_iterator)  # Output: [1, 2, 3]"
   ]
  },
  {
   "cell_type": "markdown",
   "id": "ffb4703d",
   "metadata": {},
   "source": [
    "Checking if an Object is an iterator"
   ]
  },
  {
   "cell_type": "code",
   "execution_count": 41,
   "id": "9a607d7a",
   "metadata": {},
   "outputs": [
    {
     "name": "stdout",
     "output_type": "stream",
     "text": [
      "True\n"
     ]
    }
   ],
   "source": [
    "from collections.abc import Iterator\n",
    "\n",
    "is_interator = isinstance(my_interator, Iterator)\n",
    "print(is_interator)  # Output: True"
   ]
  },
  {
   "cell_type": "markdown",
   "id": "c6147fbe",
   "metadata": {},
   "source": [
    "Using it with a Function"
   ]
  },
  {
   "cell_type": "code",
   "execution_count": 42,
   "id": "f9c12a89",
   "metadata": {},
   "outputs": [
    {
     "name": "stdout",
     "output_type": "stream",
     "text": [
      "5\n",
      "6\n",
      "8\n",
      "3\n",
      "1\n"
     ]
    }
   ],
   "source": [
    "import random\n",
    "\n",
    "def random_number():\n",
    "    while True:\n",
    "        yield random.randint(1, 10)\n",
    "\n",
    "random_iter = iter(random_number())\n",
    "for _ in range(5):\n",
    "    print(next(random_iter))  # Output: Random number between 1 and 10"
   ]
  },
  {
   "cell_type": "markdown",
   "id": "bfbb78ce",
   "metadata": {},
   "source": [
    "Range"
   ]
  },
  {
   "cell_type": "markdown",
   "id": "d93671ea",
   "metadata": {},
   "source": [
    "Create a Range"
   ]
  },
  {
   "cell_type": "code",
   "execution_count": 43,
   "id": "d9dabf10",
   "metadata": {},
   "outputs": [
    {
     "data": {
      "text/plain": [
       "range(0, 5)"
      ]
     },
     "execution_count": 43,
     "metadata": {},
     "output_type": "execute_result"
    }
   ],
   "source": [
    "r = range(5)\n",
    "r"
   ]
  },
  {
   "cell_type": "markdown",
   "id": "70ed1d96",
   "metadata": {},
   "source": [
    "Converting to a List"
   ]
  },
  {
   "cell_type": "code",
   "execution_count": 45,
   "id": "509783dd",
   "metadata": {},
   "outputs": [
    {
     "data": {
      "text/plain": [
       "[0, 1, 2, 3, 4]"
      ]
     },
     "execution_count": 45,
     "metadata": {},
     "output_type": "execute_result"
    }
   ],
   "source": [
    "list_range = list(range(5))\n",
    "list_range"
   ]
  },
  {
   "cell_type": "markdown",
   "id": "df0aff96",
   "metadata": {},
   "source": [
    "Reverse Range"
   ]
  },
  {
   "cell_type": "code",
   "execution_count": 46,
   "id": "e53bf084",
   "metadata": {},
   "outputs": [
    {
     "data": {
      "text/plain": [
       "range(5, 0, -1)"
      ]
     },
     "execution_count": 46,
     "metadata": {},
     "output_type": "execute_result"
    }
   ],
   "source": [
    "r = range(5, 0, -1)\n",
    "r"
   ]
  },
  {
   "cell_type": "markdown",
   "id": "ccda5af6",
   "metadata": {},
   "source": [
    "Checking Membership"
   ]
  },
  {
   "cell_type": "code",
   "execution_count": 47,
   "id": "98ac254d",
   "metadata": {},
   "outputs": [
    {
     "data": {
      "text/plain": [
       "True"
      ]
     },
     "execution_count": 47,
     "metadata": {},
     "output_type": "execute_result"
    }
   ],
   "source": [
    "exists = 3 in range(5)\n",
    "exists"
   ]
  },
  {
   "cell_type": "markdown",
   "id": "73cf73af",
   "metadata": {},
   "source": [
    "Using with List Comprehension"
   ]
  },
  {
   "cell_type": "code",
   "execution_count": 48,
   "id": "6bfb2426",
   "metadata": {},
   "outputs": [
    {
     "data": {
      "text/plain": [
       "[0, 1, 4, 9, 16]"
      ]
     },
     "execution_count": 48,
     "metadata": {},
     "output_type": "execute_result"
    }
   ],
   "source": [
    "square = [x**2 for x in range(5)]\n",
    "square"
   ]
  },
  {
   "cell_type": "markdown",
   "id": "1d87f11b",
   "metadata": {},
   "source": [
    "Create a Range Object"
   ]
  },
  {
   "cell_type": "code",
   "execution_count": 50,
   "id": "cd15ed78",
   "metadata": {},
   "outputs": [
    {
     "data": {
      "text/plain": [
       "range(1, 10)"
      ]
     },
     "execution_count": 50,
     "metadata": {},
     "output_type": "execute_result"
    }
   ],
   "source": [
    "r = range(1, 10)\n",
    "r"
   ]
  },
  {
   "cell_type": "markdown",
   "id": "f8181ac3",
   "metadata": {},
   "source": [
    "Specifying Start and Stop"
   ]
  },
  {
   "cell_type": "code",
   "execution_count": 51,
   "id": "769ad62b",
   "metadata": {},
   "outputs": [
    {
     "data": {
      "text/plain": [
       "range(2, 8)"
      ]
     },
     "execution_count": 51,
     "metadata": {},
     "output_type": "execute_result"
    }
   ],
   "source": [
    "r = range(2, 8)\n",
    "r"
   ]
  },
  {
   "cell_type": "markdown",
   "id": "02392605",
   "metadata": {},
   "source": [
    "Specifying step"
   ]
  },
  {
   "cell_type": "code",
   "execution_count": 52,
   "id": "44e3e547",
   "metadata": {},
   "outputs": [
    {
     "data": {
      "text/plain": [
       "range(0, 10, 2)"
      ]
     },
     "execution_count": 52,
     "metadata": {},
     "output_type": "execute_result"
    }
   ],
   "source": [
    "r = range(0, 10, 2)\n",
    "r"
   ]
  },
  {
   "cell_type": "markdown",
   "id": "1b184e80",
   "metadata": {},
   "source": [
    "Iterating Over a Range"
   ]
  },
  {
   "cell_type": "code",
   "execution_count": 53,
   "id": "5ac0c961",
   "metadata": {},
   "outputs": [
    {
     "name": "stdout",
     "output_type": "stream",
     "text": [
      "0\n",
      "1\n",
      "2\n",
      "3\n",
      "4\n"
     ]
    }
   ],
   "source": [
    "for i in range(5):\n",
    "    print(i)  # Output: 0, 1, 2, 3, 4"
   ]
  },
  {
   "cell_type": "markdown",
   "id": "c4dea3b1",
   "metadata": {},
   "source": [
    "Length of a Range"
   ]
  },
  {
   "cell_type": "code",
   "execution_count": 55,
   "id": "93cfd2de",
   "metadata": {},
   "outputs": [
    {
     "data": {
      "text/plain": [
       "5"
      ]
     },
     "execution_count": 55,
     "metadata": {},
     "output_type": "execute_result"
    }
   ],
   "source": [
    "length = len(range(5))\n",
    "length"
   ]
  },
  {
   "cell_type": "markdown",
   "id": "ad719700",
   "metadata": {},
   "source": [
    "Tuples"
   ]
  },
  {
   "cell_type": "markdown",
   "id": "5ca7535b",
   "metadata": {},
   "source": [
    "Create a Tuple"
   ]
  },
  {
   "cell_type": "code",
   "execution_count": 56,
   "id": "0d4d7ada",
   "metadata": {},
   "outputs": [],
   "source": [
    "my_tuple = (1, 2, 3, 4, 5)"
   ]
  },
  {
   "cell_type": "markdown",
   "id": "7e2c14d2",
   "metadata": {},
   "source": [
    "Accessing Elements"
   ]
  },
  {
   "cell_type": "code",
   "execution_count": 59,
   "id": "e32e181d",
   "metadata": {},
   "outputs": [
    {
     "name": "stdout",
     "output_type": "stream",
     "text": [
      "1\n",
      "5\n"
     ]
    }
   ],
   "source": [
    "first_item = my_tuple[0]\n",
    "print(first_item)  # Output: 1\n",
    "\n",
    "last_item = my_tuple[-1]\n",
    "print(last_item)  # Output: 5"
   ]
  },
  {
   "cell_type": "markdown",
   "id": "8576ffe5",
   "metadata": {},
   "source": [
    "Single-Element Tuple"
   ]
  },
  {
   "cell_type": "code",
   "execution_count": 60,
   "id": "34c2be82",
   "metadata": {},
   "outputs": [
    {
     "name": "stdout",
     "output_type": "stream",
     "text": [
      "(1,)\n"
     ]
    }
   ],
   "source": [
    "single_element = (1,)\n",
    "print(single_element)  # Output: (1,)"
   ]
  },
  {
   "cell_type": "markdown",
   "id": "dc4ce0f6",
   "metadata": {},
   "source": [
    "Iterating Through a Tuple"
   ]
  },
  {
   "cell_type": "code",
   "execution_count": 61,
   "id": "c068237d",
   "metadata": {},
   "outputs": [
    {
     "name": "stdout",
     "output_type": "stream",
     "text": [
      "1\n",
      "2\n",
      "3\n",
      "4\n",
      "5\n"
     ]
    }
   ],
   "source": [
    "for i in my_tuple:\n",
    "    print(i)  # Output: 1, 2, 3, 4, 5"
   ]
  },
  {
   "cell_type": "markdown",
   "id": "d04d8741",
   "metadata": {},
   "source": [
    "Tuple are immutable"
   ]
  },
  {
   "cell_type": "code",
   "execution_count": null,
   "id": "b939c361",
   "metadata": {},
   "outputs": [],
   "source": []
  },
  {
   "cell_type": "markdown",
   "id": "14504d39",
   "metadata": {},
   "source": [
    "Length of Tuple"
   ]
  },
  {
   "cell_type": "code",
   "execution_count": 63,
   "id": "dc46848d",
   "metadata": {},
   "outputs": [
    {
     "name": "stdout",
     "output_type": "stream",
     "text": [
      "5\n"
     ]
    }
   ],
   "source": [
    "length = len(my_tuple)\n",
    "print(length)  # Output: 5"
   ]
  },
  {
   "cell_type": "markdown",
   "id": "930dbe28",
   "metadata": {},
   "source": [
    "Repeating Tuples"
   ]
  },
  {
   "cell_type": "code",
   "execution_count": 64,
   "id": "532d3ba7",
   "metadata": {},
   "outputs": [
    {
     "name": "stdout",
     "output_type": "stream",
     "text": [
      "(1, 2, 3, 4, 5, 1, 2, 3, 4, 5)\n"
     ]
    }
   ],
   "source": [
    "repeated_tuple = my_tuple * 2\n",
    "print(repeated_tuple)  # Output: (1, 2, 3, 4, 5, 1, 2, 3, 4, 5)"
   ]
  },
  {
   "cell_type": "markdown",
   "id": "19205913",
   "metadata": {},
   "source": [
    "Packing and Unpacking"
   ]
  },
  {
   "cell_type": "code",
   "execution_count": 65,
   "id": "21998c19",
   "metadata": {},
   "outputs": [
    {
     "name": "stdout",
     "output_type": "stream",
     "text": [
      "(1, 2, 3)\n"
     ]
    }
   ],
   "source": [
    "packed = 1, 2, 3\n",
    "print(packed)  # Output: (1, 2, 3)"
   ]
  },
  {
   "cell_type": "code",
   "execution_count": 67,
   "id": "b5b46f33",
   "metadata": {},
   "outputs": [
    {
     "name": "stdout",
     "output_type": "stream",
     "text": [
      "(1, 2, 3)\n"
     ]
    }
   ],
   "source": [
    "a, b, c = packed\n",
    "print(packed)"
   ]
  },
  {
   "cell_type": "markdown",
   "id": "8c45f41f",
   "metadata": {},
   "source": [
    "Slicing\n"
   ]
  },
  {
   "cell_type": "code",
   "execution_count": 68,
   "id": "776f31e6",
   "metadata": {},
   "outputs": [
    {
     "name": "stdout",
     "output_type": "stream",
     "text": [
      "(2, 3, 4)\n"
     ]
    }
   ],
   "source": [
    "sub_tuple = my_tuple[1:4]\n",
    "print(sub_tuple)  # Output: (2, 3, 4)"
   ]
  },
  {
   "cell_type": "markdown",
   "id": "87f0de42",
   "metadata": {},
   "source": [
    "Concatenating Tuples"
   ]
  },
  {
   "cell_type": "code",
   "execution_count": 69,
   "id": "6e584fae",
   "metadata": {},
   "outputs": [
    {
     "name": "stdout",
     "output_type": "stream",
     "text": [
      "(1, 2, 3, 4, 5, 6, 7)\n"
     ]
    }
   ],
   "source": [
    "new_tuple = my_tuple + (6, 7)\n",
    "print(new_tuple)  # Output: (1, 2, 3, 4, 5, 6, 7)"
   ]
  },
  {
   "cell_type": "markdown",
   "id": "257d85ae",
   "metadata": {},
   "source": [
    "Set"
   ]
  },
  {
   "cell_type": "markdown",
   "id": "4100772f",
   "metadata": {},
   "source": [
    "Create a set"
   ]
  },
  {
   "cell_type": "code",
   "execution_count": 70,
   "id": "40172f1e",
   "metadata": {},
   "outputs": [
    {
     "name": "stdout",
     "output_type": "stream",
     "text": [
      "{1, 2, 3, 4, 5}\n"
     ]
    }
   ],
   "source": [
    "my_set = {1, 2, 3, 4, 5}\n",
    "print(my_set)  # Output: {1, 2, 3, 4, 5}"
   ]
  },
  {
   "cell_type": "markdown",
   "id": "52b9f744",
   "metadata": {},
   "source": [
    "Adding element"
   ]
  },
  {
   "cell_type": "code",
   "execution_count": 71,
   "id": "e722c42b",
   "metadata": {},
   "outputs": [
    {
     "name": "stdout",
     "output_type": "stream",
     "text": [
      "{1, 2, 3, 4, 5, 6}\n"
     ]
    }
   ],
   "source": [
    "my_set.add(6)\n",
    "print(my_set)  # Output: {1, 2, 3, 4, 5, 6}"
   ]
  },
  {
   "cell_type": "markdown",
   "id": "cb5083b6",
   "metadata": {},
   "source": [
    "Checking Existence"
   ]
  },
  {
   "cell_type": "code",
   "execution_count": 72,
   "id": "bb3f0c6f",
   "metadata": {},
   "outputs": [
    {
     "name": "stdout",
     "output_type": "stream",
     "text": [
      "True\n"
     ]
    }
   ],
   "source": [
    "exists = 2 in my_set\n",
    "print(exists)  # Output: True"
   ]
  },
  {
   "cell_type": "markdown",
   "id": "56d45e53",
   "metadata": {},
   "source": [
    "Converting a list to a set"
   ]
  },
  {
   "cell_type": "code",
   "execution_count": 73,
   "id": "622680b6",
   "metadata": {},
   "outputs": [
    {
     "name": "stdout",
     "output_type": "stream",
     "text": [
      "{1, 2, 3}\n"
     ]
    }
   ],
   "source": [
    "my_list = [1, 2, 3]\n",
    "unique_set = set(my_list)\n",
    "print(unique_set)  # Output: {1, 2, 3}"
   ]
  },
  {
   "cell_type": "markdown",
   "id": "f074c568",
   "metadata": {},
   "source": [
    "Set Operation"
   ]
  },
  {
   "cell_type": "code",
   "execution_count": 75,
   "id": "a3d3e3cb",
   "metadata": {},
   "outputs": [],
   "source": [
    "set_a = {1, 2, 3}\n",
    "set_b = {3, 4, 5}\n",
    "\n",
    "union = set_a | set_b\n",
    "\n",
    "intersection = set_a & set_b\n",
    "\n",
    "difference = set_a - set_b\n",
    "\n",
    "symmertric_difference = set_a ^ set_b\n",
    "\n"
   ]
  },
  {
   "cell_type": "markdown",
   "id": "266a83de",
   "metadata": {},
   "source": [
    "Removing Element"
   ]
  },
  {
   "cell_type": "code",
   "execution_count": null,
   "id": "296b2bdc",
   "metadata": {},
   "outputs": [],
   "source": [
    "my_set.remove(2)\n",
    "\n",
    "my_set.discard(3)\n",
    "\n",
    "popped_item = my_set.pop()\n"
   ]
  },
  {
   "cell_type": "markdown",
   "id": "709cf08c",
   "metadata": {},
   "source": [
    "Clearing a Set"
   ]
  },
  {
   "cell_type": "code",
   "execution_count": null,
   "id": "b540a79a",
   "metadata": {},
   "outputs": [],
   "source": [
    "my_set.clear()"
   ]
  },
  {
   "cell_type": "markdown",
   "id": "0f8ea2e1",
   "metadata": {},
   "source": [
    "Iterating Through a Set"
   ]
  },
  {
   "cell_type": "code",
   "execution_count": null,
   "id": "f84b1e58",
   "metadata": {},
   "outputs": [],
   "source": [
    "for item in my_set:\n",
    "    print(item)  # Output: 1, 3, 4, 5"
   ]
  },
  {
   "cell_type": "markdown",
   "id": "50a8fc5d",
   "metadata": {},
   "source": [
    "Set Comprehension"
   ]
  },
  {
   "cell_type": "code",
   "execution_count": 76,
   "id": "b7317513",
   "metadata": {},
   "outputs": [
    {
     "name": "stdout",
     "output_type": "stream",
     "text": [
      "{0, 1, 4, 9, 16}\n"
     ]
    }
   ],
   "source": [
    "square_set = {x**2 for x in range(5)}\n",
    "print(square_set)  # Output: {0, 1, 4, 9, 16}"
   ]
  },
  {
   "cell_type": "markdown",
   "id": "be2b1e52",
   "metadata": {},
   "source": [
    "Set Length"
   ]
  },
  {
   "cell_type": "code",
   "execution_count": 77,
   "id": "d6196791",
   "metadata": {},
   "outputs": [
    {
     "name": "stdout",
     "output_type": "stream",
     "text": [
      "6\n"
     ]
    }
   ],
   "source": [
    "lenght = len(my_set)\n",
    "print(lenght)  # Output: 4"
   ]
  },
  {
   "cell_type": "markdown",
   "id": "21f87ce9",
   "metadata": {},
   "source": [
    "Dictionary"
   ]
  },
  {
   "cell_type": "markdown",
   "id": "bcd7c440",
   "metadata": {},
   "source": [
    "Creating a Dictionary"
   ]
  },
  {
   "cell_type": "code",
   "execution_count": 78,
   "id": "c36c3498",
   "metadata": {},
   "outputs": [
    {
     "name": "stdout",
     "output_type": "stream",
     "text": [
      "{'name': 'Alice', 'age': 25}\n"
     ]
    }
   ],
   "source": [
    "my_dict = {'name': 'Alice', 'age': 25}\n",
    "print(my_dict)  # Output: {'name': 'Alice', 'age': 25}"
   ]
  },
  {
   "cell_type": "markdown",
   "id": "b30e41a0",
   "metadata": {},
   "source": [
    "Accessing Values"
   ]
  },
  {
   "cell_type": "code",
   "execution_count": 80,
   "id": "169995e9",
   "metadata": {},
   "outputs": [
    {
     "name": "stdout",
     "output_type": "stream",
     "text": [
      "Alice\n",
      "25\n"
     ]
    }
   ],
   "source": [
    "name = my_dict['name']\n",
    "print(name)  # Output: Alice\n",
    "age = my_dict['age']\n",
    "print(age)  # Output: 25"
   ]
  },
  {
   "cell_type": "markdown",
   "id": "1ee8b821",
   "metadata": {},
   "source": [
    "Adding/Updating items   "
   ]
  },
  {
   "cell_type": "code",
   "execution_count": 81,
   "id": "74dadf1f",
   "metadata": {},
   "outputs": [
    {
     "name": "stdout",
     "output_type": "stream",
     "text": [
      "{'name': 'Alice', 'age': 26, 'city': 'New York'}\n"
     ]
    }
   ],
   "source": [
    "my_dict['city'] = 'New York'\n",
    "\n",
    "my_dict['age'] = 26\n",
    "\n",
    "print(my_dict)  # Output: {'name': 'Alice', 'age': 26, 'city': 'New York'}"
   ]
  },
  {
   "cell_type": "markdown",
   "id": "d244760e",
   "metadata": {},
   "source": [
    "Removing Items"
   ]
  },
  {
   "cell_type": "code",
   "execution_count": 82,
   "id": "b4b96875",
   "metadata": {},
   "outputs": [
    {
     "name": "stdout",
     "output_type": "stream",
     "text": [
      "New York\n",
      "{'name': 'Alice'}\n"
     ]
    }
   ],
   "source": [
    "del my_dict['age']\n",
    "\n",
    "value  = my_dict.pop('city')\n",
    "\n",
    "print(value)  # Output: New York\n",
    "print(my_dict)  # Output: {'name': 'Alice'}"
   ]
  },
  {
   "cell_type": "markdown",
   "id": "b162737d",
   "metadata": {},
   "source": [
    "Iteration Through a Dictionary"
   ]
  },
  {
   "cell_type": "code",
   "execution_count": 86,
   "id": "0cd23649",
   "metadata": {},
   "outputs": [
    {
     "name": "stdout",
     "output_type": "stream",
     "text": [
      "name: Alice\n"
     ]
    }
   ],
   "source": [
    "for key, value in my_dict.items():\n",
    "    print(f\"{key}: {value}\")  # Output: name: Alice"
   ]
  },
  {
   "cell_type": "markdown",
   "id": "5c1bc53b",
   "metadata": {},
   "source": [
    "Dictionary Comprehension"
   ]
  },
  {
   "cell_type": "code",
   "execution_count": 87,
   "id": "7baed886",
   "metadata": {},
   "outputs": [
    {
     "name": "stdout",
     "output_type": "stream",
     "text": [
      "{0: 0, 1: 1, 2: 4, 3: 9, 4: 16}\n"
     ]
    }
   ],
   "source": [
    "squared_dict = {x: x**2 for x in range(5)}\n",
    "print(squared_dict)  # Output: {0: 0, 1: 1, 2: 4, 3: 9, 4: 16}"
   ]
  },
  {
   "cell_type": "markdown",
   "id": "55570cb0",
   "metadata": {},
   "source": [
    "Mergin Dictionaries"
   ]
  },
  {
   "cell_type": "code",
   "execution_count": 89,
   "id": "a74a6205",
   "metadata": {},
   "outputs": [
    {
     "name": "stdout",
     "output_type": "stream",
     "text": [
      "{'name': 'Alice', 'city': 'Paris'}\n"
     ]
    }
   ],
   "source": [
    "another_dict = {'city': 'Paris'}\n",
    "merged_dict = {**my_dict, **another_dict}\n",
    "print(merged_dict)  # Output: {'name': 'Alice', 'city': 'Paris'}"
   ]
  },
  {
   "cell_type": "markdown",
   "id": "934045f5",
   "metadata": {},
   "source": [
    "Checking for Existence"
   ]
  },
  {
   "cell_type": "code",
   "execution_count": 90,
   "id": "5f23db78",
   "metadata": {},
   "outputs": [
    {
     "name": "stdout",
     "output_type": "stream",
     "text": [
      "True\n"
     ]
    }
   ],
   "source": [
    "exists = 'name' in my_dict\n",
    "print(exists)  # Output: True"
   ]
  },
  {
   "cell_type": "markdown",
   "id": "d29cfa64",
   "metadata": {},
   "source": [
    "Dictionary Leghth"
   ]
  },
  {
   "cell_type": "code",
   "execution_count": 91,
   "id": "3deb88c3",
   "metadata": {},
   "outputs": [
    {
     "name": "stdout",
     "output_type": "stream",
     "text": [
      "1\n"
     ]
    }
   ],
   "source": [
    "length = len(my_dict)\n",
    "print(length)  # Output: 1"
   ]
  },
  {
   "cell_type": "markdown",
   "id": "7d70e71b",
   "metadata": {},
   "source": [
    "Copying a Dictionary"
   ]
  },
  {
   "cell_type": "code",
   "execution_count": 92,
   "id": "f8da5f16",
   "metadata": {},
   "outputs": [
    {
     "name": "stdout",
     "output_type": "stream",
     "text": [
      "{'name': 'Alice'}\n"
     ]
    }
   ],
   "source": [
    "copy_dict = my_dict.copy()\n",
    "print(copy_dict)  # Output: {'name': 'Alice'}"
   ]
  }
 ],
 "metadata": {
  "kernelspec": {
   "display_name": "Python 3",
   "language": "python",
   "name": "python3"
  },
  "language_info": {
   "codemirror_mode": {
    "name": "ipython",
    "version": 3
   },
   "file_extension": ".py",
   "mimetype": "text/x-python",
   "name": "python",
   "nbconvert_exporter": "python",
   "pygments_lexer": "ipython3",
   "version": "3.11.4"
  }
 },
 "nbformat": 4,
 "nbformat_minor": 5
}
